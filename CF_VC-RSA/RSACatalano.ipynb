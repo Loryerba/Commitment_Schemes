{
 "cells": [
  {
   "cell_type": "code",
   "execution_count": 28,
   "metadata": {},
   "outputs": [
    {
     "name": "stdout",
     "output_type": "stream",
     "text": [
      "Done!\n"
     ]
    }
   ],
   "source": [
    "import math\n",
    "from Crypto.Util import number\n",
    "import copy\n",
    "import random\n",
    "import time\n",
    "\n",
    "#divide et impera method\n",
    "def evaluate_Si(primes:list, a:int, n:int) -> list: \n",
    "    num = len(primes)\n",
    "    if num == 1:\n",
    "        return [a]\n",
    "\n",
    "    a1 = []\n",
    "    a2 = []\n",
    "\n",
    "    partial_a1 = a\n",
    "    partial_a2 = a\n",
    "\n",
    "    #for each primes number append a^primes[i] mod n\n",
    "    for i in range(math.floor(len(primes)/2)):\n",
    "        partial_a2 = pow(partial_a2, primes[i], n)\n",
    "        a1.append(primes[i])\n",
    "    #for each primes number append a^primes[i] mod n\n",
    "    for i in range(math.floor(len(primes)/2), len(primes)):\n",
    "        partial_a1 = pow(partial_a1, primes[i], n)\n",
    "        a2.append(primes[i])\n",
    "\n",
    "    #recursive call to self fun\n",
    "    l1 = evaluate_Si(a1, partial_a1, n)\n",
    "    l2 = evaluate_Si(a2, partial_a2, n)\n",
    "\n",
    "    si_list = []\n",
    "    for element in l1:\n",
    "        si_list.append(element)\n",
    "    for element in l2:\n",
    "        si_list.append(element)\n",
    "\n",
    "    return si_list\n",
    "\n",
    "def keyGen(k:int,qlen:int, l:int) -> tuple:\n",
    "    #generation of two k/2-bit primes p and q\n",
    "    p =number.getPrime(math.floor(k/2))\n",
    "    q = number.getPrime(math.floor(k/2))\n",
    "    #set n = p*q (rsa)\n",
    "    n = p*q\n",
    "    #fix a=5 random value\n",
    "    a = 5\n",
    "\n",
    "\n",
    "    \n",
    "    #list of l+1-bit q random primes\n",
    "    random_primes = []\n",
    "    while True:\n",
    "        #temporary prime\n",
    "        tmp = number.getPrime(l + 1)\n",
    "        #boolean variable to check if prime number is already used\n",
    "        alreadyUsed = False\n",
    "        #foreach to check duplicate\n",
    "        for num in random_primes:\n",
    "            if tmp == num:\n",
    "                alreadyUsed = True\n",
    "        if alreadyUsed:\n",
    "            continue\n",
    "        #add prime number if is not duplicated\n",
    "        random_primes.append(tmp)\n",
    "        #check if are generated q primes \n",
    "        if len(random_primes) == qlen:\n",
    "            break\n",
    "    \n",
    "    #call fun to evaluate Si element\n",
    "    si_list = evaluate_Si(random_primes, a, n)\n",
    "    return n, random_primes, a, si_list\n",
    "\n",
    "\n",
    "\n",
    "len_message = 10000\n",
    "\n",
    "n, ei_list, a, si_list = keyGen(k=1024,qlen=len_message,l=25)\n",
    "\n",
    "\n",
    "print(\"Done!\")\n"
   ]
  },
  {
   "cell_type": "code",
   "execution_count": 29,
   "metadata": {},
   "outputs": [
    {
     "name": "stdout",
     "output_type": "stream",
     "text": [
      "12.048006057739258\n",
      "78200956275791985381610054717078127008887760026159991882054165708111962688571438209984806660663218008204728212711541727727623827614584207097256243124515532905916643338110749673922971508863772394035810163889204619600319363483673871712642078685474136505499352883184091234495808430729268937003013622967761290783\n"
     ]
    }
   ],
   "source": [
    "#commit fun\n",
    "def commit(messages:list, S:list, n:int) -> int:\n",
    "    #set neutral element c = 1\n",
    "    c = 1\n",
    "    for i in range(len(messages)):\n",
    "        #set c = s1^m1*...*sq^mq\n",
    "        c = (c*pow(S[i], messages[i], n))%n\n",
    "    return c\n",
    "\n",
    "dim = 100\n",
    "start = time.time()\n",
    "messages = [random.randint(0,dim) for i in range(len_message)]\n",
    "end = time.time()\n",
    "print(str((end-start)*1000))\n",
    "c = commit(messages, si_list, n)\n",
    "print(c)"
   ]
  },
  {
   "cell_type": "code",
   "execution_count": 30,
   "metadata": {},
   "outputs": [
    {
     "name": "stdout",
     "output_type": "stream",
     "text": [
      "37230192538819894279915233169582532812427962889255409086190718377811250047794116458484540633272411974959853949816949111963289075343634592752425911520142636082629545409692147299775239840814053001835814942668205425349126597540438879575959042973939723003468441497944293179284003200355933698648209962342732728976\n"
     ]
    }
   ],
   "source": [
    "#opening fun\n",
    "def open(messages:list, ei_list:list, a:int, n:int, i:int) -> int:\n",
    "\n",
    "    #creating deepcopied list of ei_list primes\n",
    "    newlist = copy.deepcopy(ei_list)\n",
    "    #remove ei-th primes from list\n",
    "    newlist.remove(ei_list[i])\n",
    "    #recalculation of Si elements without ei-th prime number\n",
    "    newsi_list = evaluate_Si( newlist, a, n)\n",
    "    #set prod to neutral element 1\n",
    "    prod = 1\n",
    "\n",
    "    counter = 0\n",
    "    for j in range(len(newsi_list)): \n",
    "        #if ei-th random primes is at index i, skip (one S value is gone)\n",
    "        if(counter == i):\n",
    "            counter += 1\n",
    "        #evaluate opening value\n",
    "        prod = (prod*pow(newsi_list[j], messages[counter], n))%n\n",
    "        #next message pointer\n",
    "        counter += 1\n",
    "\n",
    "    return prod\n",
    "\n",
    "proof = open(messages, ei_list, a, n, 0)\n",
    "#later use (opening at pos 1)\n",
    "oldProof = open(messages, ei_list, a, n, 1)\n",
    "print(proof)"
   ]
  },
  {
   "cell_type": "code",
   "execution_count": 31,
   "metadata": {},
   "outputs": [
    {
     "name": "stdout",
     "output_type": "stream",
     "text": [
      "Verifying worked\n"
     ]
    }
   ],
   "source": [
    "#verify fun\n",
    "def verify(C:int, message:int, i:int, open:int, S:list, ei_list:list, n:int) -> bool:\n",
    "\n",
    "    #evaluate proof^ei-th % n\n",
    "    proofToEi =pow(open, ei_list[i], n)\n",
    "    #evaluate si-th^message * (proofToEi)\n",
    "    newC = proofToEi*pow(S[i], message, n)%n\n",
    "\n",
    "    #returns 1 if two commitment are equals, else 0\n",
    "    if(C == newC):\n",
    "        return 1\n",
    "    else:\n",
    "        return 0\n",
    "\n",
    "#start_time = time.time()\n",
    "verified = verify(c, messages[0], 0, proof, si_list, ei_list, n)\n",
    "#print(\"Verify proof required: \" + str(time.time()-start_time) + \" seconds\")\n",
    "if(verified):\n",
    "    print(\"Verifying worked\")\n",
    "else:\n",
    "    print(\"Verifying not worked\")"
   ]
  },
  {
   "cell_type": "code",
   "execution_count": 32,
   "metadata": {},
   "outputs": [
    {
     "name": "stdout",
     "output_type": "stream",
     "text": [
      "43446931108123248786563854630778765655116654711766364730703536134300572653753789530382874780423537874912092303383605282162350574874847965016957237989958355311841116847491962289377431490462395711474824247813298921517825883818422419485881297434460253556334473483043477463368522393569534775855896662012861241411\n",
      "Verifying update worked\n"
     ]
    }
   ],
   "source": [
    "#comute commitment update\n",
    "def update(C: int, m:int, new_m:int,i:int,si_list:list,n:int) -> int:\n",
    "    new_c = 1\n",
    "    b = pow(si_list[i],(new_m-m),n)\n",
    "    new_c = (C * b) % n\n",
    "    return new_c\n",
    "\n",
    "newmessage = random.randint(1,12234567) #random new message, update position 0\n",
    "    #start_time = time.time()\n",
    "newC = update(c,messages[0],newmessage,0,si_list,n)\n",
    "    #print(\"Update commitment required: \" + str(time.time()-start_time) + \" seconds\")\n",
    "\n",
    "print(newC)\n",
    "verified2 = verify(newC, newmessage, 0, proof, si_list, ei_list, n)\n",
    "if(verified2):\n",
    "    print(\"Verifying update worked\")\n",
    "else:\n",
    "    print(\"Verifying update not worked\")"
   ]
  },
  {
   "cell_type": "code",
   "execution_count": 33,
   "metadata": {},
   "outputs": [
    {
     "name": "stdout",
     "output_type": "stream",
     "text": [
      "120196596127714800427233749752041657553811099095047206567208484242457604500214081482066254629430656033695582310913160534723056650118358040419363036342372447705281490740212393071476254204092139937124022211224846267678553056188441242112952868812644451949667958566750738928472921084970436838445014298500024068461\n",
      "Verifying update proof worked\n",
      "Old proof no longer works\n"
     ]
    }
   ],
   "source": [
    "def updateProof(oldProof: int, e:list, oldm: int, newm: int, a:int, i:int, j:int, n:int) -> int:\n",
    "    alt = a\n",
    "    for k in range(len(e)):\n",
    "        if(k == i or k == j):\n",
    "            continue\n",
    "        alt = pow(alt, e[k], n)\n",
    "\n",
    "    rootS = alt\n",
    "    right = pow(rootS, newm - oldm, n)\n",
    "    full = (oldProof*right)%n\n",
    "    return full\n",
    "\n",
    "#update proof at pos j (newC is the updated commitment)\n",
    "newProof = updateProof(oldProof, ei_list, messages[0], newmessage, a, 0, 1, n)\n",
    "print(newProof)\n",
    "verified3 = verify(newC, messages[1], 1, newProof, si_list, ei_list, n)\n",
    "if(verified3):\n",
    "    print(\"Verifying update proof worked\")\n",
    "else:\n",
    "    print(\"Verifying update proof not worked\")\n",
    "\n",
    "#sanity check for previous proof\n",
    "\n",
    "verified4 = verify(newC,messages[1],1,oldProof,si_list,ei_list,n)\n",
    "\n",
    "if(verified4):\n",
    "    print(\"Old proof still works\")\n",
    "else:\n",
    "    print(\"Old proof no longer works\")"
   ]
  }
 ],
 "metadata": {
  "kernelspec": {
   "display_name": "py37",
   "language": "python",
   "name": "python3"
  },
  "language_info": {
   "codemirror_mode": {
    "name": "ipython",
    "version": 3
   },
   "file_extension": ".py",
   "mimetype": "text/x-python",
   "name": "python",
   "nbconvert_exporter": "python",
   "pygments_lexer": "ipython3",
   "version": "3.7.17"
  }
 },
 "nbformat": 4,
 "nbformat_minor": 2
}