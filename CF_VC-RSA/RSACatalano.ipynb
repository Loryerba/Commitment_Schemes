{
 "cells": [
  {
   "cell_type": "code",
   "execution_count": 47,
   "metadata": {},
   "outputs": [
    {
     "name": "stdout",
     "output_type": "stream",
     "text": [
      "Done!\n"
     ]
    }
   ],
   "source": [
    "import math\n",
    "from Crypto.Util import number\n",
    "import copy\n",
    "import random\n",
    "import time \n",
    "\n",
    "#divide et impera method\n",
    "def evaluate_Si(primes:list, a:int, n:int) -> list: \n",
    "    num = len(primes)\n",
    "    if num == 1:\n",
    "        return [a]\n",
    "\n",
    "    a1 = []\n",
    "    a2 = []\n",
    "\n",
    "    partial_a1 = a\n",
    "    partial_a2 = a\n",
    "\n",
    "    #for each primes number append a^primes[i] mod n\n",
    "    for i in range(math.floor(len(primes)/2)):\n",
    "        partial_a2 = pow(partial_a2, primes[i], n)\n",
    "        a1.append(primes[i])\n",
    "    #for each primes number append a^primes[i] mod n\n",
    "    for i in range(math.floor(len(primes)/2), len(primes)):\n",
    "        partial_a1 = pow(partial_a1, primes[i], n)\n",
    "        a2.append(primes[i])\n",
    "\n",
    "    #recursive call to self fun\n",
    "    l1 = evaluate_Si(a1, partial_a1, n)\n",
    "    l2 = evaluate_Si(a2, partial_a2, n)\n",
    "\n",
    "    si_list = []\n",
    "    for element in l1:\n",
    "        si_list.append(element)\n",
    "    for element in l2:\n",
    "        si_list.append(element)\n",
    "\n",
    "    return si_list\n",
    "\n",
    "def keyGen(k:int,qlen:int, l:int) -> tuple:\n",
    "    #generation of two k/2-bit primes p and q\n",
    "    p =number.getPrime(math.floor(k/2))\n",
    "    q = number.getPrime(math.floor(k/2))\n",
    "    #set n = p*q (rsa)\n",
    "    n = p*q\n",
    "    #fix a=5 random value\n",
    "    a = 5\n",
    "\n",
    "\n",
    "    \n",
    "    #list of l+1-bit q random primes\n",
    "    random_primes = []\n",
    "    while True:\n",
    "        #temporary prime\n",
    "        tmp = number.getPrime(l + 1)\n",
    "        #boolean variable to check if prime number is already used\n",
    "        alreadyUsed = False\n",
    "        #foreach to check duplicate\n",
    "        for num in random_primes:\n",
    "            if tmp == num:\n",
    "                alreadyUsed = True\n",
    "        if alreadyUsed:\n",
    "            continue\n",
    "        #add prime number if is not duplicated\n",
    "        random_primes.append(tmp)\n",
    "        #check if are generated q primes \n",
    "        if len(random_primes) == qlen:\n",
    "            break\n",
    "    \n",
    "    #call fun to evaluate Si element\n",
    "    si_list = evaluate_Si(random_primes, a, n)\n",
    "    return n, random_primes, a, si_list\n",
    "\n",
    "\n",
    "\n",
    "\n",
    "n, ei_list, a, si_list = keyGen(k=1024,qlen=100,l=25)\n",
    "print(\"Done!\")\n",
    "\n",
    "\n"
   ]
  },
  {
   "cell_type": "code",
   "execution_count": 48,
   "metadata": {},
   "outputs": [
    {
     "name": "stdout",
     "output_type": "stream",
     "text": [
      "52866892369391581023216145941619339315938013723135853268558914640048034122625334086258218379834938997033241163006511408793884724478520543764155513251137010567826149674447878578176223144530573682921673397059193261481875057014990011297146493227589285385141124414138012678867473916975814773885514595999111383977\n"
     ]
    }
   ],
   "source": [
    "#commit fun\n",
    "def commit(messages:list, S:list, n:int) -> int:\n",
    "    #set neutral element c = 1\n",
    "    c = 1\n",
    "    for i in range(len(messages)):\n",
    "        #set c = s1^m1*...*sq^mq\n",
    "        c = (c*pow(S[i], messages[i], n))%n\n",
    "    return c\n",
    "\n",
    "dim = 100\n",
    "messages = [random.randint(0,1000000) for i in range(dim)]\n",
    "c = commit(messages, si_list, n)\n",
    "print(c)"
   ]
  },
  {
   "cell_type": "code",
   "execution_count": 49,
   "metadata": {},
   "outputs": [
    {
     "name": "stdout",
     "output_type": "stream",
     "text": [
      "70339413330758113348367419250336454817051897158076461049277128955015430904853387251314298255472352630113917805949695470897870589068107411953104896389318374194807228909168034579972293704612932728356975695087942340131465702071318699033114221442705416738023428586111805117890396323692238548883143776895917168615\n"
     ]
    }
   ],
   "source": [
    "#opening fun\n",
    "def open(messages:list, ei_list:list, a:int, n:int, i:int) -> int:\n",
    "\n",
    "    #creating deepcopied list of ei_list primes\n",
    "    newlist = copy.deepcopy(ei_list)\n",
    "    #remove ei-th primes from list\n",
    "    newlist.remove(ei_list[i])\n",
    "    #recalculation of Si elements without ei-th prime number\n",
    "    newsi_list = evaluate_Si( newlist, a, n)\n",
    "    #set prod to neutral element 1\n",
    "    prod = 1\n",
    "\n",
    "    counter = 0\n",
    "    for j in range(len(newsi_list)): \n",
    "        #if ei-th random primes is at index i, skip (one S value is gone)\n",
    "        if(counter == i):\n",
    "            counter += 1\n",
    "        #evaluate opening value\n",
    "        prod = (prod*pow(newsi_list[j], messages[counter], n))%n\n",
    "        #next message pointer\n",
    "        counter += 1\n",
    "\n",
    "    return prod\n",
    "\n",
    "proof = open(messages, ei_list, a, n, 0)\n",
    "#later use (opening at pos 1)\n",
    "oldProof = open(messages, ei_list, a, n, 1)\n",
    "print(proof)"
   ]
  },
  {
   "cell_type": "code",
   "execution_count": 50,
   "metadata": {},
   "outputs": [
    {
     "name": "stdout",
     "output_type": "stream",
     "text": [
      "Verifying worked\n"
     ]
    }
   ],
   "source": [
    "#verify fun\n",
    "def verify(C:int, message:int, i:int, open:int, S:list, ei_list:list, n:int) -> bool:\n",
    "\n",
    "    #evaluate proof^ei-th % n\n",
    "    proofToEi =pow(open, ei_list[i], n)\n",
    "    #evaluate si-th^message * (proofToEi)\n",
    "    newC = proofToEi*pow(S[i], message, n)%n\n",
    "\n",
    "    #returns 1 if two commitment are equals, else 0\n",
    "    if(C == newC):\n",
    "        return 1\n",
    "    else:\n",
    "        return 0\n",
    "\n",
    "#start_time = time.time()\n",
    "verified = verify(c, messages[0], 0, proof, si_list, ei_list, n)\n",
    "#print(\"Verify proof required: \" + str(time.time()-start_time) + \" seconds\")\n",
    "if(verified):\n",
    "    print(\"Verifying worked\")\n",
    "else:\n",
    "    print(\"Verifying not worked\")"
   ]
  },
  {
   "cell_type": "code",
   "execution_count": 51,
   "metadata": {},
   "outputs": [
    {
     "name": "stdout",
     "output_type": "stream",
     "text": [
      "23854363515748878483795633149738348986322621356197138322812913891271647175011575937197231942479724431853370530713889558852034874595713822315629343725683205203179392128122158998598237757473716073370450723474844061376104098056716995835312084932932939847009617440047626125299124039200470523331326367208143198455\n",
      "Verifying update worked\n"
     ]
    }
   ],
   "source": [
    "#comute commitment update\n",
    "def update(C: int, m:int, new_m:int,i:int,si_list:list,n:int) -> int:\n",
    "    new_c = 1\n",
    "    b = pow(si_list[i],(new_m-m),n)\n",
    "    new_c = (C * b) % n\n",
    "    return new_c\n",
    "\n",
    "newmessage = random.randint(1,12234567) #random new message, update position 0\n",
    "    #start_time = time.time()\n",
    "newC = update(c,messages[0],newmessage,0,si_list,n)\n",
    "    #print(\"Update commitment required: \" + str(time.time()-start_time) + \" seconds\")\n",
    "\n",
    "print(newC)\n",
    "verified2 = verify(newC, newmessage, 0, proof, si_list, ei_list, n)\n",
    "if(verified2):\n",
    "    print(\"Verifying update worked\")\n",
    "else:\n",
    "    print(\"Verifying update not worked\")"
   ]
  },
  {
   "cell_type": "code",
   "execution_count": 52,
   "metadata": {},
   "outputs": [
    {
     "name": "stdout",
     "output_type": "stream",
     "text": [
      "33055366032130209519242089043106001451978491440942366661304682212259181470985511245030998548537409620244664643480599272774242412849882910215296843538272008433572335718344062651360626423878963247309103888458347401405477500538833490648965634357167972046498832077469012584746420569032832215605424936338786962948\n",
      "Verifying update proof worked\n",
      "Old proof no longer works\n"
     ]
    }
   ],
   "source": [
    "def updateProof(oldProof: int, e:list, oldm: int, newm: int, a:int, i:int, j:int, n:int) -> int:\n",
    "    alt = a\n",
    "    for k in range(len(e)):\n",
    "        if(k == i or k == j):\n",
    "            continue\n",
    "        alt = pow(alt, e[k], n)\n",
    "\n",
    "    rootS = alt\n",
    "    right = pow(rootS, newm - oldm, n)\n",
    "    full = (oldProof*right)%n\n",
    "    return full\n",
    "\n",
    "#update proof at pos j (newC is the updated commitment)\n",
    "newProof = updateProof(oldProof, ei_list, messages[0], newmessage, a, 0, 1, n)\n",
    "print(newProof)\n",
    "verified3 = verify(newC, messages[1], 1, newProof, si_list, ei_list, n)\n",
    "if(verified3):\n",
    "    print(\"Verifying update proof worked\")\n",
    "else:\n",
    "    print(\"Verifying update proof not worked\")\n",
    "\n",
    "#sanity check for previous proof\n",
    "\n",
    "verified4 = verify(newC,messages[1],1,oldProof,si_list,ei_list,n)\n",
    "\n",
    "if(verified4):\n",
    "    print(\"Old proof still works\")\n",
    "else:\n",
    "    print(\"Old proof no longer works\")"
   ]
  }
 ],
 "metadata": {
  "kernelspec": {
   "display_name": "py37",
   "language": "python",
   "name": "python3"
  },
  "language_info": {
   "codemirror_mode": {
    "name": "ipython",
    "version": 3
   },
   "file_extension": ".py",
   "mimetype": "text/x-python",
   "name": "python",
   "nbconvert_exporter": "python",
   "pygments_lexer": "ipython3",
   "version": "3.7.17"
  }
 },
 "nbformat": 4,
 "nbformat_minor": 2
}
