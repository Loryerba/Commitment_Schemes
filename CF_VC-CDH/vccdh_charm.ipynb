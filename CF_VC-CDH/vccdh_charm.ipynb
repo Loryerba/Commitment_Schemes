{
 "cells": [
  {
   "cell_type": "code",
   "execution_count": 2,
   "metadata": {},
   "outputs": [],
   "source": [
    "from charm.toolbox.pairinggroup import PairingGroup, ZR, G1, pair\n",
    "import random\n",
    "from Crypto.Random import random\n",
    "import time\n",
    "#mul == g**scalar\n",
    "#sum = g + g2\n",
    "#div = g/g2 = g-g2\n",
    "\n",
    "\"\"\"\n",
    "KeyGen requires:\n",
    "    g : generator of group\n",
    "    q: length of message list\n",
    "\"\"\"\n",
    "def keygen(g:G1,q:int) -> tuple:\n",
    "\n",
    "    #list comprehension version\n",
    "    \n",
    "     #calculate zi element <-$ Zp\n",
    "    z=[random.randint(0,q) for i in range(0,q)]\n",
    "\n",
    "    #calculate hi as g^{zi}\n",
    "    hi = [g**z[i] for i in range(len(z))]\n",
    "    \n",
    "    #calculate hij as g^{zi*zj}\n",
    "    h_ij = [[g**(z[i]*z[j]) if i!=j else 0 for j in range(len(z))] for i in range(len(z))]\n",
    "    \n",
    "    return hi, h_ij, z\n",
    "\n",
    "dim = 100\n",
    "\n",
    "group = PairingGroup('SS512')\n",
    "g = group.random(G1)\n",
    "\n",
    "    \n",
    "messages = []\n",
    "\n",
    "for i in range(0,dim):\n",
    "    messages.append(random.randint(0,1000000))\n",
    "\n",
    "hi,h_ij,z = keygen(g, q = dim)\n"
   ]
  },
  {
   "cell_type": "code",
   "execution_count": 13,
   "metadata": {},
   "outputs": [
    {
     "name": "stdout",
     "output_type": "stream",
     "text": [
      "[5208826865936317115128702029894626781274399125006369238919025896360992220225953418656049885089184321537355604247408971473611041893781387131303307067117264, 999680690270194636233718660668431834399956257518684260389574494823226749015949562903996668292822593568084305699410616133689890872985106360884456377267716]\n"
     ]
    }
   ],
   "source": [
    "\"\"\"\n",
    "Commit requires:\n",
    "    messages: list of messages to commit\n",
    "    hi: public parameter as g^{zi} for 1<=i<=q\n",
    "\"\"\"\n",
    "def commit(messages:list, hi:list) -> G1:\n",
    "    #default value\n",
    "    C = hi[0]**(0)\n",
    "    for i in range(len(messages)):\n",
    "        #calculate C as hi^{mi} * .. * hn^{mn}\n",
    "        C = C+(hi[i]**(messages[i]))\n",
    "    return C\n",
    "\n",
    "C = commit(messages,hi)\n",
    "print(C)"
   ]
  },
  {
   "cell_type": "code",
   "execution_count": 16,
   "metadata": {},
   "outputs": [
    {
     "name": "stdout",
     "output_type": "stream",
     "text": [
      "[5432864398166794137042042580980896092418013794501959077963680261221480333162600817191267979050301276922481829004243283770265613154178702661484640140469272, 3198399711579633083546488276595845197865041522324772771462701505922712564719023384751033879612697407020646183353159369282957145396698201662767322506365764]\n"
     ]
    }
   ],
   "source": [
    "\"\"\"\n",
    "Open requires:\n",
    "    i : index of message to open\n",
    "    messages: list of messages\n",
    "    h_ij: public parameter as g^{zi*zj}\n",
    "    g: generator of group\n",
    "\n",
    "\"\"\"\n",
    "def open(i:int, messages:list, h_ij:list, g:G1) -> G1:\n",
    "    #default value\n",
    "    A = g**(0)\n",
    "    for j in range(len(messages)):\n",
    "        #skip i == j\n",
    "        if(i==j):\n",
    "            continue\n",
    "        #calculate A as hij^{mij} * ... * hij^{mij}\n",
    "        A = A+(h_ij[i][j]**(messages[j]))\n",
    "    return A\n",
    "A = open(0,messages,h_ij,g)\n",
    "print(A)"
   ]
  },
  {
   "cell_type": "code",
   "execution_count": 17,
   "metadata": {},
   "outputs": [
    {
     "name": "stdout",
     "output_type": "stream",
     "text": [
      "[1429097779083948394864000385815473339259971578124179051257563224693417690371370372461156203549447211995888075513365250569056211156510754512141707511481150, 6353264264459332244529220089621970524751129910130326649676093373185475207471793724994157416079662849405435880893932875403728386123325220980724672512282898]\n"
     ]
    }
   ],
   "source": [
    "\"\"\"\n",
    "Open2 is an alternative opening method which requires:\n",
    "    messages: list of messages\n",
    "    i : index of message to open\n",
    "    hi: public parameter as g^{zi}\n",
    "    z: public parameter as z1,...zq <-$ Zp\n",
    "    g: generator of group\n",
    "\"\"\"\n",
    "def open2(messages:list,i:int,hi:list,z:list,g:G1) -> G1:\n",
    "    #default value\n",
    "    A = g**(0)\n",
    "    for j in range(len(messages)):\n",
    "        #skip i == j\n",
    "        if(i==j):\n",
    "            continue\n",
    "        #calculate A as hi^{mj*zj}\n",
    "        A = A+(hi[j]**(messages[j]*z[j]))\n",
    "    return A\n",
    "\n",
    "A2 = open2(messages,0,hi,z,g)\n",
    "print(A2)"
   ]
  },
  {
   "cell_type": "code",
   "execution_count": 9,
   "metadata": {},
   "outputs": [
    {
     "name": "stdout",
     "output_type": "stream",
     "text": [
      "Verify output: True\n"
     ]
    }
   ],
   "source": [
    "\"\"\"\n",
    "Verify requires:\n",
    "    C: commitment value\n",
    "    message: message to verify\n",
    "    i: index of message in messages list\n",
    "    A: proof of message at pos i\n",
    "    g: generator of group\n",
    "    hi: public parameter as g^{zi}\n",
    "\"\"\"\n",
    "def verify(C: G1, message:int, i:int, A:G1, g:G1, hi:list) -> bool:\n",
    "    \n",
    "    #calculate external divisor as hi^{mi}\n",
    "    externsub = hi[i]**(message)\n",
    "    #calculate first member of the first pairing as C/hi^{mi}\n",
    "    C = C/(externsub)\n",
    "    \n",
    "    #calculate first pairing as e(C/hi^{mi},hi)\n",
    "    t1 = pair(C,hi[i])\n",
    "    #calculate second pairing as e(Ai,g)\n",
    "    t2 = pair(A,g)\n",
    "    return t1 == t2\n",
    "\n",
    "print(\"Verify output: \" + str(verify(C,messages[0],0,A,g,hi)))"
   ]
  },
  {
   "cell_type": "code",
   "execution_count": 10,
   "metadata": {},
   "outputs": [
    {
     "name": "stdout",
     "output_type": "stream",
     "text": [
      "Verifying update worked\n"
     ]
    }
   ],
   "source": [
    "\"\"\"\n",
    "Update commitment requires:\n",
    "    C: commitment value\n",
    "    oldmessage: the old message \n",
    "    newmessage: the new message to commit\n",
    "    i: index of previous and new message\n",
    "    hi: public parameter as g^{zi}\n",
    "\"\"\"\n",
    "def update(C:G1, oldmessage:int, newmessage:int,i:int,hi:list)-> G1:\n",
    "    #calculate the new commitment C' as C*hi^{m'-m}\n",
    "    newc = C+hi[i]**(newmessage-oldmessage)\n",
    "    return newc\n",
    "newc = update(C,messages[0],10000002,0,hi)\n",
    "verified2 = verify(newc,10000002,0,A,g,hi)\n",
    "if(verified2):\n",
    "    print(\"Verifying update worked\")\n",
    "else:\n",
    "    print(\"Verifying update not worked\")"
   ]
  },
  {
   "cell_type": "code",
   "execution_count": 11,
   "metadata": {},
   "outputs": [
    {
     "name": "stdout",
     "output_type": "stream",
     "text": [
      "Verifying update proof worked\n"
     ]
    }
   ],
   "source": [
    "\"\"\"\n",
    "Update proof requires:\n",
    "    A: old proof\n",
    "    newmessage: new message to commit\n",
    "    oldmessage: old message\n",
    "    i: index of old message\n",
    "    j: index of new message\n",
    "    h_ij: public parameter as g^{zi*zj}\n",
    "\"\"\"\n",
    "def updateProof(A:G1,newmessage:int,oldmessage:int,i:int,j:int,h_ij:list) -> G1:\n",
    "    #calculate newproof Aj' as Aj*(hij^{m'-m})\n",
    "    newproof = A+(h_ij[j][i]**(newmessage - oldmessage))\n",
    "    return newproof\n",
    "\n",
    "oldproof = open(1,messages,h_ij,g)\n",
    "newproof = updateProof(oldproof,10000002,messages[0],0,1,h_ij)\n",
    "\n",
    "verified3 = verify(newc,messages[1],1,newproof,g,hi)\n",
    "\n",
    "if(verified3):\n",
    "    print(\"Verifying update proof worked\")\n",
    "else:\n",
    "    print(\"Verifying update proof not worked\")"
   ]
  }
 ],
 "metadata": {
  "kernelspec": {
   "display_name": "py37",
   "language": "python",
   "name": "python3"
  },
  "language_info": {
   "codemirror_mode": {
    "name": "ipython",
    "version": 3
   },
   "file_extension": ".py",
   "mimetype": "text/x-python",
   "name": "python",
   "nbconvert_exporter": "python",
   "pygments_lexer": "ipython3",
   "version": "3.7.17"
  }
 },
 "nbformat": 4,
 "nbformat_minor": 2
}
