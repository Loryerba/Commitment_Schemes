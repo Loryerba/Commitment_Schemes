{
 "cells": [
  {
   "cell_type": "markdown",
   "metadata": {},
   "source": [
    "$$VC.KeyGen(1^{k}, q)$$\n",
    "$$h_i = g^{z_i} \\space h_{i,j,j\\neq i}=g^{z_iz_j}$$"
   ]
  },
  {
   "cell_type": "code",
   "execution_count": 95,
   "metadata": {},
   "outputs": [
    {
     "name": "stdout",
     "output_type": "stream",
     "text": [
      "Key gen required: 268.1436538696289 ms\n"
     ]
    }
   ],
   "source": [
    "from charm.toolbox.pairinggroup import PairingGroup, ZR, G1, pair\n",
    "import random\n",
    "from Crypto.Random import random\n",
    "import time\n",
    "#mul == g**scalar\n",
    "#sum = g + g2\n",
    "#div = g/g2 = g-g2\n",
    "\n",
    "\"\"\"\n",
    "KeyGen requires:\n",
    "    g : generator of group\n",
    "    q: length of message list\n",
    "\"\"\"\n",
    "def keygen(g:G1,q:int) -> tuple:\n",
    "\n",
    "    #list comprehension version\n",
    "    \n",
    "     #calculate zi element <-$ Zp\n",
    "    z=[random.randint(0,q) for i in range(0,q)]\n",
    "\n",
    "    #calculate hi as g^{zi}\n",
    "    hi = [g**z[i] for i in range(len(z))]\n",
    "    \n",
    "    #calculate hij as g^{zi*zj}\n",
    "    h_ij = [[g**(z[i]*z[j]) if i!=j else 0 for j in range(len(z))] for i in range(len(z))]\n",
    "\n",
    "    return hi, h_ij, z\n",
    "\n",
    "dim = 1000\n",
    "\n",
    "group = PairingGroup('SS512')\n",
    "g = group.random(G1)\n",
    "\n",
    "    \n",
    "messages = []\n",
    "\n",
    "for i in range(0,dim):\n",
    "    messages.append(random.randint(0,100))\n",
    "\n",
    "start = time.time()\n",
    "hi,h_ij,z = keygen(g, q = dim)\n",
    "end = time.time()\n",
    "\n",
    "print(\"Key gen required: \" + str((end-start)*1000) + \" ms\")"
   ]
  },
  {
   "cell_type": "markdown",
   "metadata": {},
   "source": [
    "$$VC.Com_{pp}(m1, . . . , m_q)$$\n",
    "$$C = h_1^{m_1}h_2^{m_2}\\cdot \\cdot \\cdot h_q^{m_q}$$"
   ]
  },
  {
   "cell_type": "code",
   "execution_count": 96,
   "metadata": {},
   "outputs": [
    {
     "name": "stdout",
     "output_type": "stream",
     "text": [
      "[1534336064709618285996759901362965585029891456140589248117755678608719174722550031107830518085054167947509564012751261043110170870663212426757739094457461, 4342106904707316679283055632009110767920518398570194501935793348838263597342140833736284137485288941643419151495745964641654758920112402989635701274695557]\n",
      "Commit required: 45.61424255371094 ms\n"
     ]
    }
   ],
   "source": [
    "\"\"\"\n",
    "Commit requires:\n",
    "    messages: list of messages to commit\n",
    "    hi: public parameter as g^{zi} for 1<=i<=q\n",
    "\"\"\"\n",
    "def commit(messages:list, hi:list) -> G1:\n",
    "    #default value\n",
    "    C = hi[0]**(0)\n",
    "    for i in range(len(messages)):\n",
    "        #calculate C as hi^{mi} * .. * hn^{mn}\n",
    "        C = C+(hi[i]**(messages[i]))\n",
    "    return C\n",
    "\n",
    "start = time.time()\n",
    "C = commit(messages,hi)\n",
    "print(C)\n",
    "end = time.time()\n",
    "\n",
    "print(\"Commit required: \" + str((end-start)*1000) + \" ms\")"
   ]
  },
  {
   "cell_type": "markdown",
   "metadata": {},
   "source": [
    "$$VC.Open_{pp}(m_i, i, aux)$$\n",
    "$$Λ_{i} = \\prod_{j=1,j\\neq i}^q h_{i,j}^{m_j} \\space = \\space (\\prod_{j=1,j\\neq i}^q h_j^{m_j})^{z_i}$$"
   ]
  },
  {
   "cell_type": "code",
   "execution_count": 97,
   "metadata": {},
   "outputs": [
    {
     "name": "stdout",
     "output_type": "stream",
     "text": [
      "[741041910248802830447882257774084482100643133880763133803322271761351964202815291533083290375801630496218130809123445245301923123743752730960828653914710, 8322829934763621497478646788042434964310553370372742077691286619880632359516551201578913160366031946384831058691848019928742572558808062429511940954890310]\n",
      "Opening required: 44.99626159667969 ms\n"
     ]
    }
   ],
   "source": [
    "\"\"\"\n",
    "Open requires:\n",
    "    i : index of message to open\n",
    "    messages: list of messages\n",
    "    h_ij: public parameter as g^{zi*zj}\n",
    "    g: generator of group\n",
    "\n",
    "\"\"\"\n",
    "def open(i:int, messages:list, h_ij:list, g:G1) -> G1:\n",
    "    #default value\n",
    "    A = g**(0)\n",
    "    for j in range(len(messages)):\n",
    "        #skip i == j\n",
    "        if(i==j):\n",
    "            continue\n",
    "        #calculate A as hij^{mij} * ... * hij^{mij}\n",
    "        A = A+(h_ij[i][j]**(messages[j]))\n",
    "    return A\n",
    "start = time.time()\n",
    "A = open(0,messages,h_ij,g)\n",
    "print(A)\n",
    "end = time.time()\n",
    "\n",
    "print(\"Opening required: \" + str((end-start)*1000) + \" ms\")"
   ]
  },
  {
   "cell_type": "markdown",
   "metadata": {},
   "source": [
    "$$VC.Open_{pp}(m_i, i, aux)$$\n",
    "$$\\space (\\prod_{j=1,j\\neq i}^q h_j^{m_j})^{z_i}$$"
   ]
  },
  {
   "cell_type": "code",
   "execution_count": 98,
   "metadata": {},
   "outputs": [
    {
     "name": "stdout",
     "output_type": "stream",
     "text": [
      "[2623550911971653002192644096961767626982741198812142171403117204173643690928590690794842491106320993887208520842130967488926080728474666131446535549719170, 7568555391772470192334389940682788149618874860744637166564943407966054389547658756653004435848164806984904578375462591768565293055587497395864879087252374]\n"
     ]
    }
   ],
   "source": [
    "\"\"\"\n",
    "Open2 is an alternative opening method which requires:\n",
    "    messages: list of messages\n",
    "    i : index of message to open\n",
    "    hi: public parameter as g^{zi}\n",
    "    z: public parameter as z1,...zq <-$ Zp\n",
    "    g: generator of group\n",
    "\"\"\"\n",
    "def open2(messages:list,i:int,hi:list,z:list,g:G1) -> G1:\n",
    "    #default value\n",
    "    A = g**(0)\n",
    "    for j in range(len(messages)):\n",
    "        #skip i == j\n",
    "        if(i==j):\n",
    "            continue\n",
    "        #calculate A as hi^{mj*zj}\n",
    "        A = A+(hi[j]**(messages[j]*z[j]))\n",
    "    return A\n",
    "\n",
    "A2 = open2(messages,0,hi,z,g)\n",
    "print(A2)"
   ]
  },
  {
   "cell_type": "markdown",
   "metadata": {},
   "source": [
    "$$VC.Ver_{pp}(C, m_i, i, Λ_i)$$\n",
    "$$e(C/h_i^{m_i},h_i)=e(Λ_i,g)"
   ]
  },
  {
   "cell_type": "code",
   "execution_count": 99,
   "metadata": {},
   "outputs": [
    {
     "name": "stdout",
     "output_type": "stream",
     "text": [
      "Verify output: True\n",
      "Verifiy required: 1.6162395477294922 ms\n"
     ]
    }
   ],
   "source": [
    "\"\"\"\n",
    "Verify requires:\n",
    "    C: commitment value\n",
    "    message: message to verify\n",
    "    i: index of message in messages list\n",
    "    A: proof of message at pos i\n",
    "    g: generator of group\n",
    "    hi: public parameter as g^{zi}\n",
    "\"\"\"\n",
    "def verify(C: G1, message:int, i:int, A:G1, g:G1, hi:list) -> bool:\n",
    "    \n",
    "    #calculate external divisor as hi^{mi}\n",
    "    externsub = hi[i]**(message)\n",
    "    #calculate first member of the first pairing as C/hi^{mi}\n",
    "    C = C/(externsub)\n",
    "    \n",
    "    #calculate first pairing as e(C/hi^{mi},hi)\n",
    "    t1 = pair(C,hi[i])\n",
    "    #calculate second pairing as e(Ai,g)\n",
    "    t2 = pair(A,g)\n",
    "    return t1 == t2\n",
    "start = time.time()\n",
    "print(\"Verify output: \" + str(verify(C,messages[0],0,A,g,hi)))\n",
    "end = time.time()\n",
    "\n",
    "print(\"Verifiy required: \" + str((end-start)*1000) + \" ms\")"
   ]
  },
  {
   "cell_type": "markdown",
   "metadata": {},
   "source": [
    "$$VC.Update_{pp}C, m, m', i)$$\n",
    "$$C' = C\\cdot h_i^{m'-m}$$"
   ]
  },
  {
   "cell_type": "code",
   "execution_count": 100,
   "metadata": {},
   "outputs": [
    {
     "name": "stdout",
     "output_type": "stream",
     "text": [
      "Update commitment required: 0.21839141845703125 ms\n",
      "Verifying update worked\n"
     ]
    }
   ],
   "source": [
    "\"\"\"\n",
    "Update commitment requires:\n",
    "    C: commitment value\n",
    "    oldmessage: the old message \n",
    "    newmessage: the new message to commit\n",
    "    i: index of previous and new message\n",
    "    hi: public parameter as g^{zi}\n",
    "\"\"\"\n",
    "def update(C:G1, oldmessage:int, newmessage:int,i:int,hi:list)-> G1:\n",
    "    #calculate the new commitment C' as C*hi^{m'-m}\n",
    "    newc = C+hi[i]**(newmessage-oldmessage)\n",
    "    return newc\n",
    "start = time.time()\n",
    "newc = update(C,messages[0],10000002,0,hi)\n",
    "\n",
    "end = time.time()\n",
    "\n",
    "print(\"Update commitment required: \" + str((end-start)*1000) + \" ms\")\n",
    "verified2 = verify(newc,10000002,0,A,g,hi)\n",
    "if(verified2):\n",
    "    print(\"Verifying update worked\")\n",
    "else:\n",
    "    print(\"Verifying update not worked\")"
   ]
  },
  {
   "cell_type": "markdown",
   "metadata": {},
   "source": [
    "$$VC.ProofUpdate_{pp}(C, Λ_j, m', U)$$\n",
    "$$Λ_j' = Λ_j \\cdot (h_i^{m'-m})^{z_j} = Λ_j \\cdot h_{i,j}^{m'-m}$$"
   ]
  },
  {
   "cell_type": "code",
   "execution_count": 101,
   "metadata": {},
   "outputs": [
    {
     "name": "stdout",
     "output_type": "stream",
     "text": [
      "Update proof required: 0.2932548522949219 ms\n",
      "Verifying update proof worked\n"
     ]
    }
   ],
   "source": [
    "\"\"\"\n",
    "Update proof requires:\n",
    "    A: old proof\n",
    "    newmessage: new message to commit\n",
    "    oldmessage: old message\n",
    "    i: index of old message\n",
    "    j: index of new message\n",
    "    h_ij: public parameter as g^{zi*zj}\n",
    "\"\"\"\n",
    "def updateProof(A:G1,newmessage:int,oldmessage:int,i:int,j:int,h_ij:list) -> G1:\n",
    "    #calculate newproof Aj' as Aj*(hij^{m'-m})\n",
    "    newproof = A+(h_ij[j][i]**(newmessage - oldmessage))\n",
    "    return newproof\n",
    "\n",
    "oldproof = open(1,messages,h_ij,g)\n",
    "start = time.time()\n",
    "newproof = updateProof(oldproof,10000002,messages[0],0,1,h_ij)\n",
    "\n",
    "end = time.time()\n",
    "\n",
    "print(\"Update proof required: \" + str((end-start)*1000) + \" ms\")\n",
    "\n",
    "verified3 = verify(newc,messages[1],1,newproof,g,hi)\n",
    "\n",
    "if(verified3):\n",
    "    print(\"Verifying update proof worked\")\n",
    "else:\n",
    "    print(\"Verifying update proof not worked\")"
   ]
  }
 ],
 "metadata": {
  "kernelspec": {
   "display_name": "py37",
   "language": "python",
   "name": "python3"
  },
  "language_info": {
   "codemirror_mode": {
    "name": "ipython",
    "version": 3
   },
   "file_extension": ".py",
   "mimetype": "text/x-python",
   "name": "python",
   "nbconvert_exporter": "python",
   "pygments_lexer": "ipython3",
   "version": "3.7.17"
  }
 },
 "nbformat": 4,
 "nbformat_minor": 2
}
