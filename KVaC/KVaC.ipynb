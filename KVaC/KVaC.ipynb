{
 "cells": [
  {
   "cell_type": "markdown",
   "metadata": {},
   "source": [
    "$$KeyGen(1^λ)$$\n",
    "$$(pp,C) = ((a,b,G,g,H),(1,g))$$"
   ]
  },
  {
   "cell_type": "code",
   "execution_count": null,
   "metadata": {},
   "outputs": [],
   "source": [
    "from charm.toolbox.pairinggroup import PairingGroup, ZR, G1, pair\n",
    "from binascii import hexlify\n",
    "import random\n",
    "#define pairing group over SS512 ec\n",
    "group1 = PairingGroup(\"SS512\")\n",
    "import time\n",
    "\n",
    "def KeyGen() -> tuple:\n",
    "    #get random generator of ZR\n",
    "    #order of Zr is group1.order()\n",
    "    g = group1.random(ZR)\n",
    "    return (1,g)\n",
    "\n",
    "start = time.time()\n",
    "C = KeyGen()\n",
    "end = time.time()\n",
    "\n",
    "print(\"Key gen required: \" + str((end-start)*1000) + \" ms\")\n",
    "g= C[1]\n",
    "\n",
    "#hash function which takes an element of ZR and return a digest which fits in ZR group\n",
    "def hash2Zr(g) ->ZR:\n",
    "    return group1.hash(group1.serialize(g).decode('ascii'))\n",
    "\n",
    "#encode of a string into ZR element\n",
    "def string2zr(s: str) -> ZR:\n",
    "    s_int = int(hexlify(s.encode()), 16)\n",
    "    return group1.init(ZR, s_int)\n"
   ]
  },
  {
   "cell_type": "markdown",
   "metadata": {},
   "source": [
    "$$Insert(C,(k, v))$$\n",
    "$$ Output \\space (C,Λk, upd) where: $$\n",
    "$$Λ_k =((C_1,C_2),(g,1,1),0) \\space \\space C=(C_1^{z}\\cdot C_2^{v},C_2^{z}) \\space \\space upd=(insert,(k,v))"
   ]
  },
  {
   "cell_type": "code",
   "execution_count": null,
   "metadata": {},
   "outputs": [],
   "source": [
    "\n",
    "def Insert(C:tuple,k:int,v:int,g:ZR) -> tuple:\n",
    "    #parse C as C1,C2\n",
    "    c1,c2= C\n",
    "    #parse Ak as ((C1,C2),(g,1,1),0)\n",
    "    Ak = ((c1,c2),(g,1,1),0)\n",
    "    #z<-$ H(k)\n",
    "    z = hash2Zr(string2zr(str(k)))\n",
    "    #first operand (C1^{z})\n",
    "    first = c1**z\n",
    "    #second operand (C2^{v})\n",
    "    second = c2**v\n",
    "    #C as (C1^{z} * C2^{v},C2^{z})\n",
    "    C = (first*second,c2**z)\n",
    "    return (C,Ak)\n",
    "\n",
    "key_value = dict()\n",
    "\n",
    "commit = list()\n",
    "dim=100000\n",
    "for i in range(1,dim+1):\n",
    "    key_value.update({str(i):random.randint(0,100)})\n",
    "\n",
    "start= time.time()\n",
    "c3,A3 = Insert(C,k=3,v=3,g=g)\n",
    "\n",
    "commit.append((c3,A3))\n",
    "for i in range(1,dim):\n",
    "    commit.append(Insert(commit[i-1][0],k=i,v=key_value.get(str(i)),g=g))\n",
    "end = time.time()\n",
    "print(\"Insert required: \" + str((end-start)*1000) + \" ms\")\n"
   ]
  },
  {
   "cell_type": "markdown",
   "metadata": {},
   "source": [
    "$$Ver(C,(k, v),Λ_k)$$\n",
    "$$Check \\space if: \\space (Λ_{k,2})^z = C_2 \\space and \\space (Λ_{k,1})^z \\cdot (Λ_{k,2})^v= C_1$$"
   ]
  },
  {
   "cell_type": "code",
   "execution_count": null,
   "metadata": {},
   "outputs": [],
   "source": [
    "def Verifiy(C:tuple,k:int,v:int,Ak:tuple) -> tuple:\n",
    "    #parse C as C1,C2\n",
    "    c1,c2 = C\n",
    "    #parse ak1 as first element of the first couple in AK\n",
    "    ak1 = Ak[0][0]\n",
    "    #parse ak2 as second element of the first couple in AK\n",
    "    ak2 = Ak[0][1]\n",
    "    #z<-$ H(k)\n",
    "    z = hash2Zr(string2zr(str(k)))\n",
    "    #first condition, assert ak2^{z} = c2\n",
    "    firstcond = (ak2**z == c2)\n",
    "    #second condition, assert ak1^{z} * ak2^{v} = c1\n",
    "    secondcond = ((ak1**z) * (ak2**v) == c1)\n",
    "    #return true if first and second condition are both true\n",
    "    return (firstcond == True and secondcond == True)\n",
    "\n",
    "start = time.time()\n",
    "if Verifiy(c3,k=3,v=3,Ak=A3):\n",
    "    print(\"Verify Worked\")\n",
    "else:\n",
    "    print(\"Verify not Worked\")\n",
    "\n",
    "end = time.time()\n",
    "\n",
    "print(\"Verify required: \" + str((end-start)*1000) + \" ms\")"
   ]
  },
  {
   "cell_type": "markdown",
   "metadata": {},
   "source": [
    "$$ProofUpdate(k,Λ_k, upd)$$\n",
    "$$Λ_k=((Λ_{k,1} \\cdot (Λ_{k,2})^z),(Λ_{k,3},Λ_{k,4},Λ_{k,5}),u_k +1)"
   ]
  },
  {
   "cell_type": "code",
   "execution_count": null,
   "metadata": {},
   "outputs": [],
   "source": [
    "def ProofUpdate(k:int,Ak:tuple) -> tuple:\n",
    "    #z<-$ H(k)\n",
    "    z = hash2Zr(string2zr(str(k)))\n",
    "    #set Ak as ((Ak1,Ak2^{z}),(Ak2,Ak3,Ak4),uk+1)\n",
    "    Ak = ((Ak[0][0],(Ak[0][1]**z)),(Ak[1][0],Ak[1][1],Ak[1][2]),Ak[2]+1)\n",
    "    return Ak\n",
    "\n",
    "start = time.time()\n",
    "A3 = ProofUpdate(3,A3)\n",
    "end = time.time()\n",
    "\n",
    "print(\"Proof update required: \" + str((end-start)*1000) + \" ms\")"
   ]
  },
  {
   "cell_type": "markdown",
   "metadata": {},
   "source": [
    "$$Update(C,(k, δ))$$\n",
    "$$C=(C_1^z\\cdot C_2^δ,C_2^z)$$"
   ]
  },
  {
   "cell_type": "code",
   "execution_count": null,
   "metadata": {},
   "outputs": [],
   "source": [
    "def Update(C:tuple,k:int,v:int) -> tuple:\n",
    "    #parse C as C1,C2\n",
    "    c1,c2= C\n",
    "    #z<-$ H(k)\n",
    "    z = hash2Zr(string2zr(str(k)))\n",
    "    #first operand C1^{z}.\n",
    "    first = c1**z\n",
    "    #second operand C2^{v}\n",
    "    second = c2**v\n",
    "    #C as (C1^{z} * C2^{v},C2^{z})\n",
    "    C = (first*second,c2**z)\n",
    "    return C\n",
    "\n",
    "start = time.time()\n",
    "c3 = Update(c3,k=3,v=8)\n",
    "end = time.time()\n",
    "\n",
    "print(\"Update required: \" + str((end-start)*1000) + \" ms\")"
   ]
  },
  {
   "cell_type": "markdown",
   "metadata": {},
   "source": [
    "$$Ver(C,(k, v),Λ_k)$$\n",
    "$$Check \\space if: \\space (Λ_{k,2})^z = C_2 \\space and \\space {(Λ_{k,1})^z}^{u_k+1} \\cdot (Λ_{k,2})^v= C_1$$\n",
    "$$\\space and \\space {(Λ_{k,3})^z}^{u_k+1} = C_2 \\space and \\space (Λ_{k,4})^z \\cdot (Λ_{k,3})^{(Λ_{k,5})} = g"
   ]
  },
  {
   "cell_type": "code",
   "execution_count": null,
   "metadata": {},
   "outputs": [],
   "source": [
    "def VerifiyUpdate(C:tuple,k:int,v:int,Ak:tuple):\n",
    "    #parse C as C1,C2\n",
    "    c1,c2 = C\n",
    "    #parse ak1 as first element of the first couple in AK\n",
    "    ak1 = Ak[0][0]\n",
    "    #parse ak2 as second element of the first couple in AK\n",
    "    ak2 = Ak[0][1]\n",
    "    #parse ak3 as first element of the second couple in AK\n",
    "    ak3 = Ak[1][0]\n",
    "    #parse ak4 as second element of the second couple in AK\n",
    "    ak4 = Ak[1][1]\n",
    "    #parse ak5 as third element of the second couple in AK\n",
    "    ak5 = Ak[1][2]\n",
    "    #z<-$ H(k)\n",
    "    z = hash2Zr(string2zr(str(k)))\n",
    "    #parse uk as first element of the third couple in AK\n",
    "    uk = Ak[2]\n",
    "    #first condition assert ak2^{z} = c2\n",
    "    firstcond = (ak2**z == c2)\n",
    "    #set temp as ak1^{z}\n",
    "    temp = (ak1**z)\n",
    "\n",
    "    #perform exponentiations as described in the paper, avoiding \"double\" exponent\n",
    "    for i in range(1,uk+1):\n",
    "        temp = temp**z  \n",
    "    #first condition assert ak1^{z^(uk+1)} * ak2^{v} = c1\n",
    "    secondcond = ((temp) * (ak2**v) == c1)\n",
    "    #set temp as ak3^{z}\n",
    "    temp = (ak3**z)\n",
    "    #perform exponentiations as described in the paper, avoiding \"double\" exponent\n",
    "    for i in range(1,uk+1):\n",
    "        temp = temp**z\n",
    "    #third condition assert ak3^{z^(uk+1)}    \n",
    "    thirdcond = ((temp) == c2)\n",
    "    #fourth condition assert ak3^{z} * ak3^{ak5} = g\n",
    "    fourthcond = ((ak4**z)*(ak3**ak5) == g) \n",
    "    #return true if first, second, third and fourth condition are all true\n",
    "    return (firstcond == True and secondcond == True\n",
    "            and thirdcond == True and fourthcond == True)\n",
    "\n",
    "start = time.time()\n",
    "if VerifiyUpdate(c3,k=3,v=11,Ak=A3):\n",
    "    print(\"Update Worked\")\n",
    "else:\n",
    "    print(\"Update not Worked\")\n",
    "\n",
    "end = time.time()\n",
    "\n",
    "print(\"Verifiy update required: \" + str((end-start)*1000) + \" ms\")"
   ]
  }
 ],
 "metadata": {
  "kernelspec": {
   "display_name": "py37",
   "language": "python",
   "name": "python3"
  },
  "language_info": {
   "codemirror_mode": {
    "name": "ipython",
    "version": 3
   },
   "file_extension": ".py",
   "mimetype": "text/x-python",
   "name": "python",
   "nbconvert_exporter": "python",
   "pygments_lexer": "ipython3",
   "version": "3.7.17"
  }
 },
 "nbformat": 4,
 "nbformat_minor": 2
}
