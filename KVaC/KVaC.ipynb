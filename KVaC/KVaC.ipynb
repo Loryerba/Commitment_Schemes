{
 "cells": [
  {
   "cell_type": "code",
   "execution_count": null,
   "metadata": {},
   "outputs": [],
   "source": [
    "from charm.toolbox.integergroup import IntegerGroup\n",
    "from Crypto.Random import random\n",
    "\n",
    "def KeyGen():\n",
    "    group1 = IntegerGroup()\n",
    "    group1.paramgen(1024)\n",
    "    g = group1.randomGen()\n",
    "    print(group1.groupOrder())\n",
    "    return (1,g)\n",
    "\n",
    "C = KeyGen()\n",
    "g = C[1]\n",
    "\n",
    "\n"
   ]
  },
  {
   "cell_type": "code",
   "execution_count": null,
   "metadata": {},
   "outputs": [],
   "source": [
    "from hashlib import sha256\n",
    "def Insert(C:tuple,k:int,v:int,g:int):\n",
    "    c1,c2= C\n",
    "    Ak = ((c1,c2),(g,1,1),0)\n",
    "    z = int.from_bytes(sha256(str(k).encode('utf-8')).digest(), 'big')\n",
    "    first = c1**z\n",
    "    second = c2**v\n",
    "    print(first*second)\n",
    "    return (C,Ak)\n",
    "\n",
    "\n",
    "newC,Ak= Insert(C,k=3,v=5,g=g)"
   ]
  }
 ],
 "metadata": {
  "kernelspec": {
   "display_name": "py37",
   "language": "python",
   "name": "python3"
  },
  "language_info": {
   "codemirror_mode": {
    "name": "ipython",
    "version": 3
   },
   "file_extension": ".py",
   "mimetype": "text/x-python",
   "name": "python",
   "nbconvert_exporter": "python",
   "pygments_lexer": "ipython3",
   "version": "3.7.17"
  }
 },
 "nbformat": 4,
 "nbformat_minor": 2
}
