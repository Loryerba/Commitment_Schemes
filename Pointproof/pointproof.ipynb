{
 "cells": [
  {
   "cell_type": "markdown",
   "metadata": {},
   "source": [
    "$$Setup(1^λ, 1^N)$$\n",
    "$$g1^a=(g_1^α,\\cdot \\cdot \\cdot,g_1^{{α}^N})$$\n",
    "$$g_1^{{α}^Na[-1]} = (g_1^{{α}^N+2},\\cdot\\cdot\\cdot,g_1^{{α}^{2N}})$$ \n",
    "$$g_2^a=(g_2^α,\\cdot\\cdot\\cdot,g_2^{{α}^N})$$\n",
    "$$where\\space a:=(α,α^2,\\cdot\\cdot\\cdot,α^N)$$"
   ]
  },
  {
   "cell_type": "code",
   "execution_count": null,
   "metadata": {},
   "outputs": [],
   "source": [
    "from charm.toolbox.pairinggroup import PairingGroup, G1,G2,GT,pair\n",
    "import random\n",
    "from operator import add\n",
    "from functools import reduce\n",
    "import time\n",
    "group = PairingGroup(\"MNT159\")\n",
    "g1 = group.random(G1)\n",
    "g2 = group.random(G2)\n",
    "alpha = random.randint(1,group.order())\n",
    "\n",
    "def KeyGen(N:int):\n",
    "\n",
    "    lg1 = [g1**(alpha*i) for i in range(1,N+1)]\n",
    "    lg1N = [g1**(alpha*(N+i)) for i in range(1,N+1)]\n",
    "    lg2 = [g2**(alpha*i) for i in range(1,N+1)]\n",
    "\n",
    "    #gt^{alpha*(N+1)} equals pair(g1^{alpha},g2^{N+1})\n",
    "    gt = pair(g1**alpha,g2**(alpha**N))\n",
    "    return lg1,lg1N,lg2,gt\n",
    "\n",
    "dim = 1000\n",
    "messages = [random.randint(0,100) for i in range(0,dim)]\n",
    "\n",
    "    \n",
    "start = time.time()\n",
    "lg1,lg2,lg1N,gt = KeyGen(len(messages))\n",
    "end = time.time()\n",
    "\n",
    "print(\"Key gen required: \" + str((end-start)*1000) + \" ms\")"
   ]
  },
  {
   "cell_type": "markdown",
   "metadata": {},
   "source": [
    "$$Commit(m)$$\n",
    "$$C:=g_1^{\\sum_{i\\in [N]} m_iα^i}$$"
   ]
  },
  {
   "cell_type": "code",
   "execution_count": null,
   "metadata": {},
   "outputs": [],
   "source": [
    "def Commit(lg1:list,messages:list):\n",
    "    #default value\n",
    "    C = lg1[0] ** 0\n",
    "    for i in range(len(messages)):\n",
    "        #calculate C as g^{m1*alpha^1 + .... + mn*alpha^n}\n",
    "        #equals to g^{{alpha^1}^message1} + .. + g^{{alpha^n}^messagen}\n",
    "        C+=lg1[i]**messages[i]\n",
    "    return C\n",
    "start = time.time()\n",
    "C = Commit(lg1,messages)\n",
    "end = time.time()\n",
    "\n",
    "print(\"Commitment required: \" + str((end-start)*1000) + \" ms\")\n",
    "print(C)"
   ]
  },
  {
   "cell_type": "markdown",
   "metadata": {},
   "source": [
    "$$Prove(i, m)$$\n",
    "$$g_1^{\\sum_{j\\in [N]-\\{i\\}} m_jα^{N+1-i+j}}$$"
   ]
  },
  {
   "cell_type": "code",
   "execution_count": null,
   "metadata": {},
   "outputs": [],
   "source": [
    "def Proof(messages:list, i:int, N:int, C):\n",
    "    \n",
    "    #calculate inner exponent as mi*alpha^{i}\n",
    "    innerexp = messages[i] * (alpha**i)\n",
    "    #calcualte proof as (C/g1^{inner exponent} )^{alpha^{N+1-i}}\n",
    "    proof = (C/(g1**innerexp))**(alpha**(N+1-i))\n",
    "\n",
    "    return proof\n",
    "start = time.time()\n",
    "A = Proof(messages,0,len(messages),C)\n",
    "end = time.time()\n",
    "\n",
    "print(\"Opening required: \" + str((end-start)*1000) + \" ms\")\n",
    "A1= Proof(messages,1,len(messages),C)\n",
    "print(A)\n",
    "print(A1)"
   ]
  },
  {
   "cell_type": "markdown",
   "metadata": {},
   "source": [
    "$$Verify(C, S, m[S], \\^{π})$$\n",
    "$$e(C,g_2^{\\sum_{i\\in S}α^{N+1-i}t_i}) \\stackrel{?}{=} e(\\^π,g2) \\cdot g_T^{{α}^{N+1}\\sum_{i\\in S}m_it_i}$$"
   ]
  },
  {
   "cell_type": "code",
   "execution_count": null,
   "metadata": {},
   "outputs": [],
   "source": [
    "def Verify(C,N:int,proof,gt,messages:list,i:int):\n",
    "    \n",
    "    #calculate first pairing value as e(C,g2^{alpha^{N+1-i}})\n",
    "    pair1 = pair(C,g2**(alpha**(N+1-i)))\n",
    "    #calculate second pairing value as e(pi,g2) * gt^{alpha^{N+1}*mi}\n",
    "    pair2 = pair(proof,g2) * (gt**messages[i])  \n",
    "\n",
    "    return(pair1 == pair2)\n",
    "\n",
    "start = time.time()\n",
    "print(\"Verifiy Output: \" + str(Verify(C,len(messages),A,gt,messages,0)))\n",
    "end = time.time()\n",
    "\n",
    "print(\"Verifiy required: \" + str((end-start)*1000) + \" ms\")"
   ]
  },
  {
   "cell_type": "markdown",
   "metadata": {},
   "source": [
    "$$Aggregate(C, S, m[S], {π_i: i\\in S})$$\n",
    "$$\\^π := \\prod_{i\\in S} π_i^{t_i}$$"
   ]
  },
  {
   "cell_type": "code",
   "execution_count": null,
   "metadata": {},
   "outputs": [],
   "source": [
    "def Aggregate(proofs:list,scalars:list):\n",
    "    #default value\n",
    "    Ai = g1**0\n",
    "    for i in range(len(proofs)):\n",
    "        #calculate aggregation of i proofs as pi_1^{t1} + .. + pi_i^{ti}\n",
    "        Ai= Ai + (proofs[i]**scalars[i])\n",
    "    return Ai\n",
    "    \n",
    "\n",
    "\n",
    "proofs = [A,A1]\n",
    "\n",
    "scalars = [1202039,1292330]\n",
    "start = time.time()\n",
    "Ai = Aggregate(proofs,scalars)\n",
    "end = time.time()\n",
    "\n",
    "print(\"Aggregation required: \" + str((end-start)*1000) + \" ms\")\n",
    "\n",
    "print(Ai)"
   ]
  },
  {
   "cell_type": "markdown",
   "metadata": {},
   "source": [
    "$$VerifiyAggregate(C,S,π_i,m[S])$$\n",
    "$$e(C,g_2^{α^{N+1-i}{t_i}}) = e(π_i^{t_i},g2) \\cdot g_T^{{α}^{N+1}{m_it_i}}$$"
   ]
  },
  {
   "cell_type": "code",
   "execution_count": null,
   "metadata": {},
   "outputs": [],
   "source": [
    "def VerifiyAggregate(C,N,Ai,messages,number,scalars,gt):\n",
    "    #exponent of first pairing\n",
    "    innterexp = 0\n",
    "    for i in range(number):\n",
    "       #calculate the exponent for i proofs as alpha^{N+1-1}*t1 + .. + alpha^{N+1-i}*ti\n",
    "       innterexp= innterexp + ((alpha**(N+1-i)) * scalars[i])\n",
    "    \n",
    "    #calculate the first pairing as e(C,g2^{innterexp})\n",
    "    pair1 = pair(C,g2**innterexp)\n",
    "    \n",
    "    #exponent of second pairing\n",
    "    exp = 0\n",
    "\n",
    "    #calculate mi*ti\n",
    "    for i in range(number):\n",
    "        exp = exp + (messages[i]*scalars[i])\n",
    "    \n",
    "    #calculate second pairing as e(pi_aggregate,g2) * gt^{exp}\n",
    "    pair2 = pair(Ai,g2) * (gt**exp)\n",
    "    return pair1 == pair2\n",
    "start = time.time()\n",
    "print(\"Verify Aggregate output: \" + str(VerifiyAggregate(C,len(messages),Ai,messages,len(scalars),scalars,gt)))\n",
    "end = time.time()\n",
    "\n",
    "print(\"Verify aggregation required: \" + str((end-start)*1000) + \" ms\")"
   ]
  },
  {
   "cell_type": "markdown",
   "metadata": {},
   "source": [
    "$$UpdateCommit(C, S, m[S], m'[S])$$\n",
    "$$C'=C\\cdot g_1^{\\sum_{i\\in S} (m_i'-m_i)α^i}$$"
   ]
  },
  {
   "cell_type": "code",
   "execution_count": null,
   "metadata": {},
   "outputs": [],
   "source": [
    "def UpdateCommit(C,i,oldm,newm,lg1):\n",
    "    #calculate new commitment C' as C*g1^{mi'-m*alpha^{i}}\n",
    "    C = C + (g1**((newm-oldm)*(alpha**i)))\n",
    "\n",
    "    return C\n",
    "newvalue = random.randint(100,110)\n",
    "start = time.time()\n",
    "newC = UpdateCommit(C,0,messages[0],newvalue,lg1)\n",
    "end = time.time()\n",
    "\n",
    "print(\"Update commitment required: \" + str((end-start)*1000) + \" ms\")\n",
    "#new vector generated at pos 0 new message equals 10\n",
    "messages[0] = newvalue\n",
    "print(\"Verifiy update commit output: \" + str(Verify(newC,len(messages),A,gt,messages,0)))\n"
   ]
  }
 ],
 "metadata": {
  "kernelspec": {
   "display_name": "py37",
   "language": "python",
   "name": "python3"
  },
  "language_info": {
   "codemirror_mode": {
    "name": "ipython",
    "version": 3
   },
   "file_extension": ".py",
   "mimetype": "text/x-python",
   "name": "python",
   "nbconvert_exporter": "python",
   "pygments_lexer": "ipython3",
   "version": "3.7.17"
  }
 },
 "nbformat": 4,
 "nbformat_minor": 2
}
