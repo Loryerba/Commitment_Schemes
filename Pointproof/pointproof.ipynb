{
 "cells": [
  {
   "cell_type": "code",
   "execution_count": 4,
   "metadata": {},
   "outputs": [],
   "source": [
    "from charm.toolbox.pairinggroup import PairingGroup, G1,G2,GT,pair\n",
    "import random\n",
    "from operator import add\n",
    "from functools import reduce\n",
    "group = PairingGroup(\"MNT159\")\n",
    "g1 = group.random(G1)\n",
    "g2 = group.random(G2)\n",
    "alpha = random.randint(1,group.order())\n",
    "\n",
    "def KeyGen(N:int):\n",
    "\n",
    "    lg1 = [g1**(alpha**i) for i in range(1,N+1)]\n",
    "    lg1N = [g1**(alpha**(N+i)) for i in range(1,N+1)]\n",
    "    lg2 = [g2**(alpha**i) for i in range(1,N+1)]\n",
    "\n",
    "    #gt^{alpha*(N+1)} equals pair(g1^{alpha},g2^{N+1})\n",
    "    gt = pair(g1**alpha,g2**(alpha**N))\n",
    "    return lg1,lg1N,lg2,gt\n",
    "\n",
    "messages = [2,3,4]\n",
    "lg1,lg1N,lg2,gt = KeyGen(len(messages))"
   ]
  },
  {
   "cell_type": "code",
   "execution_count": 5,
   "metadata": {},
   "outputs": [
    {
     "name": "stdout",
     "output_type": "stream",
     "text": [
      "[369015882511128945177424673287314501852135944572, 79166280621636421629357168453575769487600085554]\n"
     ]
    }
   ],
   "source": [
    "def Commit(lg1:list,messages:list):\n",
    "    #default value\n",
    "    C = lg1[0] ** 0\n",
    "    for i in range(len(messages)):\n",
    "        #calculate C as g^{m1*alpha^1 + .... + mn*alpha^n}\n",
    "        #equals to g^{{alpha^1}^message1} + .. + g^{{alpha^n}^messagen}\n",
    "        C+=lg1[i]**messages[i]\n",
    "    return C\n",
    "\n",
    "C = Commit(lg1,messages)\n",
    "print(C)"
   ]
  },
  {
   "cell_type": "code",
   "execution_count": 6,
   "metadata": {},
   "outputs": [
    {
     "name": "stdout",
     "output_type": "stream",
     "text": [
      "[75374643497934150747093040274016851300459333064, 280636839703125723866214990937204854341436324862]\n",
      "[211640938521867851223046831623368029230599746100, 58688330593424274092591323867041017121431478382]\n"
     ]
    }
   ],
   "source": [
    "def Proof(messages:list, i:int, N:int, C):\n",
    "    \n",
    "    #calculate inner exponent as mi*alpha^{i}\n",
    "    innerexp = messages[i] * (alpha**i)\n",
    "    #calcualte proof as (C/g1^{inner exponent} )^{alpha^{N+1-i}}\n",
    "    proof = (C/(g1**innerexp))**(alpha**(N+1-i))\n",
    "\n",
    "    return proof\n",
    "A = Proof(messages,0,len(messages),C)\n",
    "A1= Proof(messages,1,len(messages),C)\n",
    "print(A)\n",
    "print(A1)"
   ]
  },
  {
   "cell_type": "code",
   "execution_count": 7,
   "metadata": {},
   "outputs": [
    {
     "name": "stdout",
     "output_type": "stream",
     "text": [
      "Verifiy Output: True\n"
     ]
    }
   ],
   "source": [
    "def Verify(C,N:int,proof,gt,messages:list,i:int):\n",
    "    \n",
    "    #calculate first pairing value as e(C,g2^{alpha^{N+1-i}})\n",
    "    pair1 = pair(C,g2**(alpha**(N+1-i)))\n",
    "    #calculate second pairing value as e(pi,g2) * gt^{alpha^{N+1}*mi}\n",
    "    pair2 = pair(proof,g2) * (gt**messages[i])  \n",
    "\n",
    "    return(pair1 == pair2)\n",
    "\n",
    "print(\"Verifiy Output: \" + str(Verify(C,len(messages),A,gt,messages,0)))"
   ]
  },
  {
   "cell_type": "code",
   "execution_count": 8,
   "metadata": {},
   "outputs": [
    {
     "name": "stdout",
     "output_type": "stream",
     "text": [
      "[571634737103959389473395346578601120240245569238, 372830583823147953612860252046273897835246712635]\n"
     ]
    }
   ],
   "source": [
    "def Aggregate(proofs:list,scalars:list):\n",
    "    #default value\n",
    "    Ai = g1**0\n",
    "    for i in range(len(proofs)):\n",
    "        #calculate aggregation of i proofs as pi_1^{t1} + .. + pi_i^{ti}\n",
    "        Ai= Ai + (proofs[i]**scalars[i])\n",
    "    return Ai\n",
    "    \n",
    "\n",
    "proofs = [A,A1]\n",
    "scalars = [102983830,1093803830]\n",
    "Ai = Aggregate(proofs,scalars)\n",
    "\n",
    "print(Ai)"
   ]
  },
  {
   "cell_type": "code",
   "execution_count": 9,
   "metadata": {},
   "outputs": [
    {
     "name": "stdout",
     "output_type": "stream",
     "text": [
      "Verify Aggregate output: True\n"
     ]
    }
   ],
   "source": [
    "def VerifiyAggregate(C,N,Ai,messages,number,scalars,gt):\n",
    "    #exponent of first pairing\n",
    "    innterexp = 0\n",
    "    for i in range(number):\n",
    "       #calculate the exponent for i proofs as alpha^{N+1-1}*t1 + .. + alpha^{N+1-i}*ti\n",
    "       innterexp= innterexp + ((alpha**(N+1-i)) * scalars[i])\n",
    "    \n",
    "    #calculate the first pairing as e(C,g2^{innterexp})\n",
    "    pair1 = pair(C,g2**innterexp)\n",
    "    \n",
    "    #exponent of second pairing\n",
    "    exp = 0\n",
    "\n",
    "    #calculate mi*ti\n",
    "    for i in range(number):\n",
    "        exp = exp + (messages[i]*scalars[i])\n",
    "    \n",
    "    #calculate second pairing as e(pi_aggregate,g2) * gt^{exp}\n",
    "    pair2 = pair(Ai,g2) * (gt**exp)\n",
    "    return pair1 == pair2\n",
    "\n",
    "print(\"Verify Aggregate output: \" + str(VerifiyAggregate(C,len(messages),Ai,messages,len(scalars),scalars,gt)))"
   ]
  },
  {
   "cell_type": "code",
   "execution_count": 10,
   "metadata": {},
   "outputs": [
    {
     "name": "stdout",
     "output_type": "stream",
     "text": [
      "Verifiy update commit output: True\n"
     ]
    }
   ],
   "source": [
    "def UpdateCommit(C,i,oldm,newm,lg1):\n",
    "    #calculate new commitment C' as C*g1^{mi'-m*alpha^{i}}\n",
    "    C = C + (g1**((newm-oldm)*(alpha**i)))\n",
    "\n",
    "    return C\n",
    "\n",
    "newC = UpdateCommit(C,0,messages[0],10,lg1)\n",
    "\n",
    "#new vector generated at pos 0 new message equals 10\n",
    "messages = [10,3,4]\n",
    "print(\"Verifiy update commit output: \" + str(Verify(newC,len(messages),A,gt,messages,0)))"
   ]
  }
 ],
 "metadata": {
  "kernelspec": {
   "display_name": "py37",
   "language": "python",
   "name": "python3"
  },
  "language_info": {
   "codemirror_mode": {
    "name": "ipython",
    "version": 3
   },
   "file_extension": ".py",
   "mimetype": "text/x-python",
   "name": "python",
   "nbconvert_exporter": "python",
   "pygments_lexer": "ipython3",
   "version": "3.7.17"
  }
 },
 "nbformat": 4,
 "nbformat_minor": 2
}
